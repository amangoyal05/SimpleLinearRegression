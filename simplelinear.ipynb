{
 "cells": [
  {
   "cell_type": "code",
   "execution_count": 1,
   "id": "mighty-investigator",
   "metadata": {},
   "outputs": [],
   "source": [
    "import numpy as np\n",
    "import matplotlib.pyplot as plt\n",
    "import pandas as pd\n",
    "from sklearn import linear_model\n",
    "from sklearn.model_selection import train_test_split\n",
    "import matplotlib.pyplot as plt\n",
    "import seaborn as sns\n",
    "from sklearn.linear_model import LinearRegression\n",
    "from sklearn.model_selection import cross_val_score\n",
    "from sklearn.metrics import mean_squared_error, r2_score\n",
    "import warnings\n",
    "warnings.filterwarnings('ignore')"
   ]
  },
  {
   "cell_type": "markdown",
   "id": "accompanied-benefit",
   "metadata": {},
   "source": [
    "#### What is Linear Regression?<br>\n",
    "Linear Regression is a predictive algorithm which provides a Linear relationship between <b>Prediction</b> (Call it ‘Y’) and <b>Input</b> (Call is ‘X’).<br>\n",
    "As we know from the basic maths that if we plot an ‘X’,’Y’ graph, a linear relationship will always come up with a straight line. For example, if we plot the graph of these values<br>\n",
    "(Input) X = 1,2,3,4,5<br>\n",
    "(Prediction) Y = 1,2,3,4,5<br>\n",
    "It will be a perfectly straight line:<br><br>\n",
    "<center><img src=\"https://miro.medium.com/max/720/1*FIXuLEmOf90Hwy_GEdZftQ.jpeg\"><br><h6>Linear Straight Line graph</h6><p></center>"
   ]
  },
  {
   "cell_type": "markdown",
   "id": "editorial-invention",
   "metadata": {},
   "source": [
    "This is a simple dataset containing housing prices in Portland, Oregon. The first column is the size of the house (in square feet), the second column is the number of bedrooms, and the third column is the price of the house. You might have noticed that we have more than one feature in our dataset (i.e. the house_size(in sqft) and the number of rooms) hence we will be looking at multivariate linear regression and the label (y) will be the house price as that is what we are going to be predicting.\n",
    "Lets define the function for loading the dataset:"
   ]
  },
  {
   "cell_type": "code",
   "execution_count": 2,
   "id": "appropriate-activity",
   "metadata": {},
   "outputs": [],
   "source": [
    "def load_data(filename):\n",
    "    df = pd.read_csv(filename, sep=\",\", index_col=False)\n",
    "    df.columns = [\"housesize\", \"rooms\", \"price\"]\n",
    "    data = np.array(df, dtype=float)\n",
    "    plot_data(data[:,:2], data[:, -1])\n",
    "    normalize(data)\n",
    "    return data[:,:2], data[:, -1]"
   ]
  },
  {
   "cell_type": "markdown",
   "id": "local-partition",
   "metadata": {},
   "source": [
    "We will be calling the above function later to load the dataset. This function returns x and y (note x is made up of the first 2 columns of the dataset whereas y is the last column of the dataset as that is the price column hence in order to return x and y we are returning data[:,:2] and data[:,-1] respectively from the function).<br>\n",
    "### Normalize the data\n",
    "The above code not only loads the data but also normalizes it and plots the data points. We will look at the plot of the data in a bit but first lets understand what the normalize(data) line is doing above. If you look at the raw dataset you will notice that the values in the second column (i.e. the number of rooms) are much smaller than the those in the first (i.e house size). Our model does not evaluate this data as number of rooms or size of house. For the model its all just numbers. This can create an unwanted bias in your machine learning model towards the columns (or features) that have higher numerical values than the others. It can also create imbalance in the variance and mathematical mean. For these reasons and also to make the job easier it is always advised to scale or normalize your features so that they all lie within the same range ( e.g. [-1 to 1] or [0 to 1] ). This makes training much easier. So for our purpose here we will be using feature normalization which in the mathematical sense means:<br>\n",
    "<h5>Z = (x — μ) / σ</h5>\n",
    "<h5>μ : mean</h5>\n",
    "<h5>σ : standard deviation</h5>\n",
    "In the above formula z is our normalized feature and x is the non-normalized feature. Don’t worry if you are not very familiar with these mathematical concepts. A quick review should get you going. Alright so now that we have our normalization formula lets make a function for normalization:"
   ]
  },
  {
   "cell_type": "code",
   "execution_count": 3,
   "id": "north-workplace",
   "metadata": {},
   "outputs": [],
   "source": [
    "def normalize(data):\n",
    "    for i in range(0,data.shape[1]-1):\n",
    "        data[:,i] = ((data[:,i] - np.mean(data[:,i]))/np.std(data[:, i]))"
   ]
  },
  {
   "cell_type": "markdown",
   "id": "fantastic-bennett",
   "metadata": {},
   "source": [
    "This code does exactly what we have discussed. It goes through each column and normalizes all data elements of that column using the mean and standard deviation of those elements.<br>\n",
    "### Plot the data\n",
    "Now before we jump to coding our linear regression model one thing we need to ask is WHY?<br>\n",
    "Why are we solving this problem using linear regression? This is a very valid question and before actually jumping to any concrete code you should be very clear about what algorithm you want to use and if that really is the best option given the dataset and the problem you are trying to solve. One way we can prove why using linear regression will work for our current dataset is by plotting it. For that purpose we have called the plot_data function in load_data above. Lets define the plot_data function now:\n"
   ]
  },
  {
   "cell_type": "code",
   "execution_count": 4,
   "id": "valued-imaging",
   "metadata": {},
   "outputs": [],
   "source": [
    "def plot_data(x, y):\n",
    "    plt.xlabel('house size')\n",
    "    plt.ylabel('price')\n",
    "    plt.plot(x[:,0], y, 'bo')\n",
    "    plt.show()"
   ]
  },
  {
   "cell_type": "markdown",
   "id": "natural-pennsylvania",
   "metadata": {},
   "source": [
    "This function on being called generates the following plot:<br>\n",
    "<center><img src=\"https://miro.medium.com/max/942/1*xFZlECRc619FofzwIAAB8Q.png\"><h6>Plot of house size vs house price (source: image by the author)</h6></center><br>\n",
    "You can see that it is possible to roughly fit a line through the above plot. This means a linear approximation will actually allow us to make pretty accurate predictions and hence we go for linear regression.<br>\n",
    "Well now that we have the data ready lets move on to the fun part. Coding the algorithm!<p>\n"
   ]
  },
  {
   "cell_type": "markdown",
   "id": "functional-abraham",
   "metadata": {},
   "source": [
    "### Hypothesis\n",
    "First of all we need to define what our hypothesis function looks like because we will be using this hypothesis for calculating the cost later on. We know for linear regression our hypothesis is:<br>\n",
    "<b>hθ(x) = θ0 + θ1x1 + θ2x2 + θ3x3 +…..+ θnxn</b><br>\n",
    "Our dataset however has only 2 features, so for our current problem the hypothesis is:<br>\n",
    "<b>hθ(x) = θ0 + θ1x1 + θ2x2</b><br>\n",
    "where x1 and x2 are the two features (i.e. size of house and number of rooms). Lets put this in a simple python function which returns the hypothesis:"
   ]
  },
  {
   "cell_type": "code",
   "execution_count": 5,
   "id": "disturbed-housing",
   "metadata": {},
   "outputs": [],
   "source": [
    "def h(x,theta):\n",
    "    return np.matmul(x, theta)"
   ]
  },
  {
   "cell_type": "markdown",
   "id": "devoted-composer",
   "metadata": {},
   "source": [
    "Woah what’s with the matrix multiplication?! Don’t worry it still gives us the same hypothesis equation and we will take a deeper look into why this is mathematically correct later in this post.\n",
    "Okay so now we have the hypothesis function, the next important thing is the cost function.<br>\n",
    "### Cost Function\n",
    "To evaluate the quality of our model we make use of the cost function. Again this post is the exact “code version” of:<br>\n",
    "So you can go through it if anything here doesn’t make sense or just follow along both the posts. Alright so the equation for the cost function is:<br>\n",
    "<center><img src=\"https://miro.medium.com/max/633/0*Ik65EI6ouQAkaJVu.png\"></center><br>\n",
    "and the code for our cost function is:"
   ]
  },
  {
   "cell_type": "code",
   "execution_count": 6,
   "id": "protective-adventure",
   "metadata": {},
   "outputs": [],
   "source": [
    "def cost_function(x, y, theta):\n",
    "    return ((h(x, theta)-y).T@(h(x, theta)-y))/(2*y.shape[0])"
   ]
  },
  {
   "cell_type": "markdown",
   "id": "chubby-gothic",
   "metadata": {},
   "source": [
    "On a closer look you will probably notice that all the python functions we have defined so far are exactly the same as the mathematics we had defined earlier for linear regression. Now that we have the cost we must minimize it and for that we use… yes gradient descent indeed!<p>\n",
    "### Gradient Descent\n",
    "Gradient descent in our context is an optimization algorithm that aims to adjust the parameters in order to minimize the cost function .\n",
    "The main update step for gradient descent is:<br>\n",
    "    <center><img src=\"https://miro.medium.com/max/864/0*2D8fvpZJqoFYGDH2.png\"></center><br>So we multiply the derivative of the cost function with the learning rate(α) and subtract it from the present value of the parameters(θ) to get the new updated parameters(θ)."
   ]
  },
  {
   "cell_type": "code",
   "execution_count": 7,
   "id": "convenient-jonathan",
   "metadata": {},
   "outputs": [],
   "source": [
    "def gradient_descent(x, y, theta, learning_rate=0.1, num_epochs=10):\n",
    "    m = x.shape[0]\n",
    "    J_all = []\n",
    "\n",
    "    for _ in range(num_epochs):\n",
    "        h_x = h(x, theta)\n",
    "        cost_ = (1/m)*(x.T@(h_x - y))\n",
    "        theta = theta - (learning_rate)*cost_\n",
    "        J_all.append(cost_function(x, y, theta))\n",
    "\n",
    "    return theta, J_all "
   ]
  },
  {
   "cell_type": "markdown",
   "id": "thrown-address",
   "metadata": {},
   "source": [
    "The gradient_descent function returns theta and J_all. theta is obviously our parameter vector which contains the values of θs for the hypothesis and J_all is a list containing the cost function after each epoch. The J_all variable isn’t exactly essential but it helps to analyze the model better as you will see later in the post.<br>\n",
    "### Putting it all together\n",
    "Now all that's left to do is call our functions in the correct order:"
   ]
  },
  {
   "cell_type": "code",
   "execution_count": 8,
   "id": "racial-board",
   "metadata": {},
   "outputs": [
    {
     "data": {
      "image/png": "[encoded data removed]",
      "text/plain": [
       "<Figure size 432x288 with 1 Axes>"
      ]
     },
     "metadata": {
      "needs_background": "light"
     },
     "output_type": "display_data"
    },
    {
     "name": "stdout",
     "output_type": "stream",
     "text": [
      "Cost:  [[2.08475311e+09]]\n",
      "Parameters:  [[ 3.37371711e+05]\n",
      " [ 1.04066024e+05]\n",
      " [-6.47874139e+01]]\n"
     ]
    }
   ],
   "source": [
    "x,y = load_data(\"house_price_data.txt\")\n",
    "y = np.reshape(y, (46,1))\n",
    "x = np.hstack((np.ones((x.shape[0],1)), x))\n",
    "theta = np.zeros((x.shape[1], 1))\n",
    "learning_rate = 0.1\n",
    "num_epochs = 50\n",
    "theta, J_all = gradient_descent(x, y, theta, learning_rate, num_epochs)\n",
    "J = cost_function(x, y, theta)\n",
    "print(\"Cost: \", J)\n",
    "print(\"Parameters: \", theta)\n",
    "\n",
    "#for testing and plotting cost \n",
    "n_epochs = []\n",
    "jplot = []\n",
    "count = 0\n",
    "for i in J_all:\n",
    "    jplot.append(i[0][0])\n",
    "    n_epochs.append(count)\n",
    "    count += 1\n",
    "jplot = np.array(jplot)\n",
    "n_epochs = np.array(n_epochs)"
   ]
  },
  {
   "cell_type": "markdown",
   "id": "brilliant-milan",
   "metadata": {},
   "source": [
    "We first call the load_data function to load the x and y values. x contains the training examples and y contains the labels (the house prices in our case).<br>\n",
    "You might have noticed that in the code throughout we have been using matrix multiplication to achieve the expressions we want. For example in order to get the hypothesis, we had to multiply each parameter(θ) with each feature vector(x) we could use for loops for this and loop over each example and perform the multiplication each time however this would not be the most efficient method if we were to have say 10 million training examples. A more efficient approach here would be to use matrix multiplication. If you aren't very familiar with matrix multiplication I would suggest you go over it once, it’s fairly simple. For our dataset we have two features (i.e. the house size and the number of rooms) so we will have (2+1) 3 parameters. The extra parameter θ0 can be accounted for by considering that the hypothesis is nothing but a line in the graphical sense. So the extra θ0 accounts for this line to be as required.<br><center><img src=\"https://miro.medium.com/max/942/1*H3oA7kT8gQBbWp39mra4eQ.png\"><h6>Plot of a favorable hypothesis function</h6></center><br>Okay so we have 3 parameters and 2 features. This means our θ or parameter vector (1-D matrix) will have the dimensions (3,1) but our feature vector will have the dimensions (46,2) {according to our dataset}. You probably have noticed by now that its not mathematically possible to multiply these two matrices. Lets take a look at our hypothesis once again:<br>\n",
    "<b>hθ(x) = θ0 + θ1x1 + θ2x2</b><br>If you look closely it is actually quite intuitive that if we add an extra column of ones in the beginning of our feature vector(x){ making it have the dimensions (46, 3)} and if we perform matrix multiplication on x and theta we in fact will arrive at the above equation for hθ(x). If it still isn't obvious then just try working out an example on a piece of paper.<br>\n",
    "Remember when we actually run our code for implementing this function we won’t be returning the expression like for hθ(x) instead we are returning the mathematical value that this expression evaluates to.<br>In the above code the line x = np.hstack((np.ones((x.shape[0],1)), x)) adds an extra column of ones to the beginning of x in order to allow matrix multiplication as required.<br>\n",
    "After this we initialize our theta vector with zeros. You can also initialize it with some small random values. We also specify the learning rate and the number of epochs (an epoch is the number of times the algorithm will go through the entire dataset) we want to train for.<br>\n",
    "Once we have all our hyper-parameters defined, we call the gradient descent function which returns a history of all the cost functions and the final vector of parameters theta. This theta vector is essentially what defines our final hypothesis. You may observe that the shape of the theta vector that is returned by the gradient descent function has the dimensions (3,1). Remember our hypothesis function?<br>\n",
    "<b>hθ(x) = θ0 + θ1x1 + θ2x2</b><br>\n",
    "Well we needed 3 θs and our theta vector has the dimensions (3,1) hence each of theta[0], theta[1]and theta[2]is in fact θ0, θ1 andθ2 respectively. The J_all variable is nothing but the history of all the cost functions. You can print the J_all array to see how the cost function progressively decreases for each epoch of gradient descent.<br>\n",
    "<center><img src=\"https://miro.medium.com/max/930/1*QG9MPVaB-cEJfMhGbTGYxA.png\"><h6>Plot of cost vs number of epochs</h6></center><br>This graph can be plotted by defining and calling a plot_cost function like so:"
   ]
  },
  {
   "cell_type": "code",
   "execution_count": 9,
   "id": "together-brain",
   "metadata": {},
   "outputs": [],
   "source": [
    "def plot_cost(J_all, num_epochs):\n",
    "    plt.xlabel('Epochs')\n",
    "    plt.ylabel('Cost')\n",
    "    plt.plot(num_epochs, J_all, 'm', linewidth = \"5\")\n",
    "    plt.show()"
   ]
  },
  {
   "cell_type": "markdown",
   "id": "permanent-segment",
   "metadata": {},
   "source": [
    "Now we can use these parameters to find the label i.e. the price of any house (in Portland, Oregon) given the house size and number of rooms.<br>\n",
    "### Test\n",
    "You may now test your code calling a test function that will take as input the size of the house, the number of rooms and the final theta vector that was returned by our linear regression model and will give us the price of the house."
   ]
  },
  {
   "cell_type": "code",
   "execution_count": 10,
   "id": "bacterial-indonesian",
   "metadata": {},
   "outputs": [],
   "source": [
    "def test(theta, x):\n",
    "    x[0] = (x[0] - mu[0])/std[0]\n",
    "    x[1] = (x[1] - mu[1])/std[1]\n",
    "\n",
    "    y = theta[0] + theta[1]*x[0] + theta[2]*x[1]\n",
    "    print(\"Price of house: \", y)"
   ]
  },
  {
   "cell_type": "markdown",
   "id": "antique-monkey",
   "metadata": {},
   "source": [
    "### The Complete Code"
   ]
  },
  {
   "cell_type": "code",
   "execution_count": 11,
   "id": "quantitative-concentrate",
   "metadata": {},
   "outputs": [
    {
     "data": {
      "image/png": "[encoded data removed]",
      "text/plain": [
       "<Figure size 432x288 with 1 Axes>"
      ]
     },
     "metadata": {
      "needs_background": "light"
     },
     "output_type": "display_data"
    },
    {
     "name": "stdout",
     "output_type": "stream",
     "text": [
      "Cost:  [[2.08475311e+09]]\n",
      "Parameters:  [[ 3.37371711e+05]\n",
      " [ 1.04066024e+05]\n",
      " [-6.47874139e+01]]\n"
     ]
    },
    {
     "data": {
      "image/png": "[encoded data removed]",
      "text/plain": [
       "<Figure size 432x288 with 1 Axes>"
      ]
     },
     "metadata": {
      "needs_background": "light"
     },
     "output_type": "display_data"
    },
    {
     "name": "stdout",
     "output_type": "stream",
     "text": [
      "Price of house:  [1.66842816e+08]\n"
     ]
    }
   ],
   "source": [
    "#variables to store mean and standard deviation for each feature\n",
    "mu = []\n",
    "std = []\n",
    "\n",
    "def load_data(filename):\n",
    "    df = pd.read_csv(filename, sep=\",\", index_col=False)\n",
    "    df.columns = [\"housesize\", \"rooms\", \"price\"]\n",
    "    data = np.array(df, dtype=float)\n",
    "    plot_data(data[:,:2], data[:, -1])\n",
    "    normalize(data)\n",
    "    return data[:,:2], data[:, -1]\n",
    "\n",
    "def plot_data(x, y):\n",
    "    plt.xlabel('house size')\n",
    "    plt.ylabel('price')\n",
    "    plt.plot(x[:,0], y, 'bo')\n",
    "    plt.show()\n",
    "\n",
    "def normalize(data):\n",
    "    for i in range(0,data.shape[1]-1):\n",
    "        data[:,i] = ((data[:,i] - np.mean(data[:,i]))/np.std(data[:, i]))\n",
    "        mu.append(np.mean(data[:,i]))\n",
    "        std.append(np.std(data[:, i]))\n",
    "\n",
    "\n",
    "def h(x,theta):\n",
    "    return np.matmul(x, theta)\n",
    "\n",
    "def cost_function(x, y, theta):\n",
    "    return ((h(x, theta)-y).T@(h(x, theta)-y))/(2*y.shape[0])\n",
    "\n",
    "def gradient_descent(x, y, theta, learning_rate=0.1, num_epochs=10):\n",
    "    m = x.shape[0]\n",
    "    J_all = []\n",
    "\n",
    "    for _ in range(num_epochs):\n",
    "        h_x = h(x, theta)\n",
    "        cost_ = (1/m)*(x.T@(h_x - y))\n",
    "        theta = theta - (learning_rate)*cost_\n",
    "        J_all.append(cost_function(x, y, theta))\n",
    "\n",
    "    return theta, J_all \n",
    "\n",
    "def plot_cost(J_all, num_epochs):\n",
    "    plt.xlabel('Epochs')\n",
    "    plt.ylabel('Cost')\n",
    "    plt.plot(num_epochs, J_all, 'm', linewidth = \"5\")\n",
    "    plt.show()\n",
    "\n",
    "def test(theta, x):\n",
    "    x[0] = (x[0] - mu[0])/std[0]\n",
    "    x[1] = (x[1] - mu[1])/std[1]\n",
    "\n",
    "    y = theta[0] + theta[1]*x[0] + theta[2]*x[1]\n",
    "    print(\"Price of house: \", y)\n",
    "\n",
    "x,y = load_data(\"house_price_data.txt\")\n",
    "y = np.reshape(y, (46,1))\n",
    "x = np.hstack((np.ones((x.shape[0],1)), x))\n",
    "theta = np.zeros((x.shape[1], 1))\n",
    "learning_rate = 0.1\n",
    "num_epochs = 50\n",
    "theta, J_all = gradient_descent(x, y, theta, learning_rate, num_epochs)\n",
    "J = cost_function(x, y, theta)\n",
    "print(\"Cost: \", J)\n",
    "print(\"Parameters: \", theta)\n",
    "\n",
    "#for testing and plotting cost \n",
    "n_epochs = []\n",
    "jplot = []\n",
    "count = 0\n",
    "for i in J_all:\n",
    "    jplot.append(i[0][0])\n",
    "    n_epochs.append(count)\n",
    "    count += 1\n",
    "jplot = np.array(jplot)\n",
    "n_epochs = np.array(n_epochs)\n",
    "plot_cost(jplot, n_epochs)\n",
    "\n",
    "test(theta, [1600, 3])"
   ]
  },
  {
   "cell_type": "markdown",
   "id": "inappropriate-dealing",
   "metadata": {},
   "source": [
    "### Linear Regression Using Built In Python Libraries"
   ]
  },
  {
   "cell_type": "code",
   "execution_count": 12,
   "id": "noted-healing",
   "metadata": {},
   "outputs": [
    {
     "data": {
      "text/html": [
       "<div>\n",
       "<style scoped>\n",
       "    .dataframe tbody tr th:only-of-type {\n",
       "        vertical-align: middle;\n",
       "    }\n",
       "\n",
       "    .dataframe tbody tr th {\n",
       "        vertical-align: top;\n",
       "    }\n",
       "\n",
       "    .dataframe thead th {\n",
       "        text-align: right;\n",
       "    }\n",
       "</style>\n",
       "<table border=\"1\" class=\"dataframe\">\n",
       "  <thead>\n",
       "    <tr style=\"text-align: right;\">\n",
       "      <th></th>\n",
       "      <th>X</th>\n",
       "      <th>Y</th>\n",
       "    </tr>\n",
       "  </thead>\n",
       "  <tbody>\n",
       "    <tr>\n",
       "      <th>0</th>\n",
       "      <td>1</td>\n",
       "      <td>3.888889</td>\n",
       "    </tr>\n",
       "    <tr>\n",
       "      <th>1</th>\n",
       "      <td>2</td>\n",
       "      <td>4.555556</td>\n",
       "    </tr>\n",
       "    <tr>\n",
       "      <th>2</th>\n",
       "      <td>3</td>\n",
       "      <td>5.222222</td>\n",
       "    </tr>\n",
       "    <tr>\n",
       "      <th>3</th>\n",
       "      <td>4</td>\n",
       "      <td>5.888889</td>\n",
       "    </tr>\n",
       "    <tr>\n",
       "      <th>4</th>\n",
       "      <td>5</td>\n",
       "      <td>6.555556</td>\n",
       "    </tr>\n",
       "    <tr>\n",
       "      <th>5</th>\n",
       "      <td>6</td>\n",
       "      <td>7.222222</td>\n",
       "    </tr>\n",
       "    <tr>\n",
       "      <th>6</th>\n",
       "      <td>7</td>\n",
       "      <td>7.888889</td>\n",
       "    </tr>\n",
       "    <tr>\n",
       "      <th>7</th>\n",
       "      <td>8</td>\n",
       "      <td>8.555556</td>\n",
       "    </tr>\n",
       "    <tr>\n",
       "      <th>8</th>\n",
       "      <td>9</td>\n",
       "      <td>9.222222</td>\n",
       "    </tr>\n",
       "    <tr>\n",
       "      <th>9</th>\n",
       "      <td>10</td>\n",
       "      <td>9.888889</td>\n",
       "    </tr>\n",
       "  </tbody>\n",
       "</table>\n",
       "</div>"
      ],
      "text/plain": [
       "    X         Y\n",
       "0   1  3.888889\n",
       "1   2  4.555556\n",
       "2   3  5.222222\n",
       "3   4  5.888889\n",
       "4   5  6.555556\n",
       "5   6  7.222222\n",
       "6   7  7.888889\n",
       "7   8  8.555556\n",
       "8   9  9.222222\n",
       "9  10  9.888889"
      ]
     },
     "execution_count": 12,
     "metadata": {},
     "output_type": "execute_result"
    }
   ],
   "source": [
    "linear = pd.read_csv('Linear Regression - Sheet1.csv')\n",
    "linear.head(n=10)"
   ]
  },
  {
   "cell_type": "code",
   "execution_count": 13,
   "id": "sporting-terrorism",
   "metadata": {},
   "outputs": [
    {
     "data": {
      "text/html": [
       "<div>\n",
       "<style scoped>\n",
       "    .dataframe tbody tr th:only-of-type {\n",
       "        vertical-align: middle;\n",
       "    }\n",
       "\n",
       "    .dataframe tbody tr th {\n",
       "        vertical-align: top;\n",
       "    }\n",
       "\n",
       "    .dataframe thead th {\n",
       "        text-align: right;\n",
       "    }\n",
       "</style>\n",
       "<table border=\"1\" class=\"dataframe\">\n",
       "  <thead>\n",
       "    <tr style=\"text-align: right;\">\n",
       "      <th></th>\n",
       "      <th>X</th>\n",
       "      <th>Y</th>\n",
       "    </tr>\n",
       "  </thead>\n",
       "  <tbody>\n",
       "    <tr>\n",
       "      <th>count</th>\n",
       "      <td>300.000000</td>\n",
       "      <td>300.000000</td>\n",
       "    </tr>\n",
       "    <tr>\n",
       "      <th>mean</th>\n",
       "      <td>150.500000</td>\n",
       "      <td>102.215556</td>\n",
       "    </tr>\n",
       "    <tr>\n",
       "      <th>std</th>\n",
       "      <td>86.746758</td>\n",
       "      <td>57.842711</td>\n",
       "    </tr>\n",
       "    <tr>\n",
       "      <th>min</th>\n",
       "      <td>1.000000</td>\n",
       "      <td>1.888889</td>\n",
       "    </tr>\n",
       "    <tr>\n",
       "      <th>25%</th>\n",
       "      <td>75.750000</td>\n",
       "      <td>52.388889</td>\n",
       "    </tr>\n",
       "    <tr>\n",
       "      <th>50%</th>\n",
       "      <td>150.500000</td>\n",
       "      <td>102.222222</td>\n",
       "    </tr>\n",
       "    <tr>\n",
       "      <th>75%</th>\n",
       "      <td>225.250000</td>\n",
       "      <td>152.055556</td>\n",
       "    </tr>\n",
       "    <tr>\n",
       "      <th>max</th>\n",
       "      <td>300.000000</td>\n",
       "      <td>201.888889</td>\n",
       "    </tr>\n",
       "  </tbody>\n",
       "</table>\n",
       "</div>"
      ],
      "text/plain": [
       "                X           Y\n",
       "count  300.000000  300.000000\n",
       "mean   150.500000  102.215556\n",
       "std     86.746758   57.842711\n",
       "min      1.000000    1.888889\n",
       "25%     75.750000   52.388889\n",
       "50%    150.500000  102.222222\n",
       "75%    225.250000  152.055556\n",
       "max    300.000000  201.888889"
      ]
     },
     "execution_count": 13,
     "metadata": {},
     "output_type": "execute_result"
    }
   ],
   "source": [
    "linear.describe()"
   ]
  },
  {
   "cell_type": "code",
   "execution_count": 14,
   "id": "nearby-lesson",
   "metadata": {},
   "outputs": [],
   "source": [
    "linear = linear.iloc[:298]"
   ]
  },
  {
   "cell_type": "code",
   "execution_count": 15,
   "id": "objective-power",
   "metadata": {},
   "outputs": [
    {
     "data": {
      "image/png": "[encoded data removed]",
      "text/plain": [
       "<Figure size 432x288 with 1 Axes>"
      ]
     },
     "metadata": {
      "needs_background": "light"
     },
     "output_type": "display_data"
    }
   ],
   "source": [
    "fig = plt.figure()\n",
    "ax = fig.add_subplot(1,1,1)\n",
    "\n",
    "ax.plot(linear['X'], linear['Y'])\n",
    "ax.set_xlabel('input - x')\n",
    "ax.set_ylabel('target - y')\n",
    "plt.show()"
   ]
  },
  {
   "cell_type": "code",
   "execution_count": 16,
   "id": "magnetic-space",
   "metadata": {},
   "outputs": [],
   "source": [
    "X = linear[['X']]\n",
    "y = linear[['Y']]"
   ]
  },
  {
   "cell_type": "code",
   "execution_count": 17,
   "id": "social-mount",
   "metadata": {},
   "outputs": [
    {
     "data": {
      "text/plain": [
       "<AxesSubplot:xlabel='X', ylabel='count'>"
      ]
     },
     "execution_count": 17,
     "metadata": {},
     "output_type": "execute_result"
    },
    {
     "data": {
      "image/png": "[encoded data removed]",
      "text/plain": [
       "<Figure size 432x288 with 1 Axes>"
      ]
     },
     "metadata": {
      "needs_background": "light"
     },
     "output_type": "display_data"
    }
   ],
   "source": [
    "sns.countplot(X['X'])"
   ]
  },
  {
   "cell_type": "code",
   "execution_count": 18,
   "id": "sound-timer",
   "metadata": {},
   "outputs": [],
   "source": [
    "X_train, X_test,y_train,y_test=train_test_split(X,y,test_size=0.3,random_state=2)"
   ]
  },
  {
   "cell_type": "code",
   "execution_count": 19,
   "id": "dental-craps",
   "metadata": {},
   "outputs": [
    {
     "name": "stdout",
     "output_type": "stream",
     "text": [
      "[1. 1. 1. 1. 1.]\n"
     ]
    }
   ],
   "source": [
    "model=LinearRegression()\n",
    "\n",
    "scores = cross_val_score(model, X_train, y_train, cv= 5)\n",
    "print(scores)"
   ]
  },
  {
   "cell_type": "code",
   "execution_count": 20,
   "id": "canadian-cutting",
   "metadata": {},
   "outputs": [],
   "source": [
    "model=model.fit(X_train, y_train)\n",
    "y_pred=model.predict(X_test)"
   ]
  },
  {
   "cell_type": "code",
   "execution_count": 21,
   "id": "skilled-mainland",
   "metadata": {},
   "outputs": [
    {
     "data": {
      "text/plain": [
       "[<matplotlib.lines.Line2D at 0x1dcfdda8>]"
      ]
     },
     "execution_count": 21,
     "metadata": {},
     "output_type": "execute_result"
    },
    {
     "data": {
      "image/png": "[encoded data removed]",
      "text/plain": [
       "<Figure size 432x288 with 1 Axes>"
      ]
     },
     "metadata": {
      "needs_background": "light"
     },
     "output_type": "display_data"
    }
   ],
   "source": [
    "plt.scatter(X_train,y_train,color='red')\n",
    "plt.plot(X_train,model.predict(X_train),color='blue')"
   ]
  },
  {
   "cell_type": "code",
   "execution_count": 22,
   "id": "contrary-subscriber",
   "metadata": {},
   "outputs": [
    {
     "data": {
      "text/plain": [
       "[<matplotlib.lines.Line2D at 0x1dd35100>]"
      ]
     },
     "execution_count": 22,
     "metadata": {},
     "output_type": "execute_result"
    },
    {
     "data": {
      "image/png": "[encoded data removed]",
      "text/plain": [
       "<Figure size 432x288 with 1 Axes>"
      ]
     },
     "metadata": {
      "needs_background": "light"
     },
     "output_type": "display_data"
    }
   ],
   "source": [
    "plt.scatter(X_test,y_test,color='red')\n",
    "plt.plot(X_test,model.predict(X_test),color='blue')"
   ]
  },
  {
   "cell_type": "code",
   "execution_count": 23,
   "id": "blank-coaching",
   "metadata": {},
   "outputs": [
    {
     "name": "stdout",
     "output_type": "stream",
     "text": [
      "Mean squared error:  3.9695497707818346e-16\n",
      "R2 Score:  1.0\n"
     ]
    }
   ],
   "source": [
    "MSE = mean_squared_error(y_test, y_pred)\n",
    "r2 = r2_score(y_test, y_pred)\n",
    "\n",
    "print('Mean squared error: ', MSE)\n",
    "print('R2 Score: ', r2)"
   ]
  }
 ],
 "metadata": {
  "kernelspec": {
   "display_name": "Python 3",
   "language": "python",
   "name": "python3"
  },
  "language_info": {
   "codemirror_mode": {
    "name": "ipython",
    "version": 3
   },
   "file_extension": ".py",
   "mimetype": "text/x-python",
   "name": "python",
   "nbconvert_exporter": "python",
   "pygments_lexer": "ipython3",
   "version": "3.8.5"
  }
 },
 "nbformat": 4,
 "nbformat_minor": 5
}
